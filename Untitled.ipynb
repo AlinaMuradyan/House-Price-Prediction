{
 "cells": [
  {
   "cell_type": "code",
   "execution_count": 1,
   "id": "1e84a924-776e-4600-b76c-5a081ed3c7a6",
   "metadata": {},
   "outputs": [],
   "source": [
    "import pandas as pd\n",
    "import numpy as np\n",
    "import seaborn as sns\n",
    "import matplotlib.pyplot as plt"
   ]
  },
  {
   "cell_type": "code",
   "execution_count": 2,
   "id": "59192828-d3ed-45e7-a4db-887a77adafc9",
   "metadata": {},
   "outputs": [],
   "source": [
    "df_train = pd.read_csv('./dataset.csv')\n",
    "df_test = pd.read_csv('./test.csv')"
   ]
  },
  {
   "cell_type": "code",
   "execution_count": 3,
   "id": "52a0c152-dad0-47cf-b038-280417f7152b",
   "metadata": {},
   "outputs": [
    {
     "name": "stdout",
     "output_type": "stream",
     "text": [
      "<class 'pandas.core.frame.DataFrame'>\n",
      "RangeIndex: 200000 entries, 0 to 199999\n",
      "Data columns (total 47 columns):\n",
      " #   Column            Non-Null Count   Dtype  \n",
      "---  ------            --------------   -----  \n",
      " 0   id                200000 non-null  int64  \n",
      " 1   sale_date         200000 non-null  object \n",
      " 2   sale_price        200000 non-null  int64  \n",
      " 3   sale_nbr          157818 non-null  float64\n",
      " 4   sale_warning      200000 non-null  object \n",
      " 5   join_status       200000 non-null  object \n",
      " 6   join_year         200000 non-null  int64  \n",
      " 7   latitude          200000 non-null  float64\n",
      " 8   longitude         200000 non-null  float64\n",
      " 9   area              200000 non-null  int64  \n",
      " 10  city              200000 non-null  object \n",
      " 11  zoning            200000 non-null  object \n",
      " 12  subdivision       182450 non-null  object \n",
      " 13  present_use       200000 non-null  int64  \n",
      " 14  land_val          200000 non-null  int64  \n",
      " 15  imp_val           200000 non-null  int64  \n",
      " 16  year_built        200000 non-null  int64  \n",
      " 17  year_reno         200000 non-null  int64  \n",
      " 18  sqft_lot          200000 non-null  int64  \n",
      " 19  sqft              200000 non-null  int64  \n",
      " 20  sqft_1            200000 non-null  int64  \n",
      " 21  sqft_fbsmt        200000 non-null  int64  \n",
      " 22  grade             200000 non-null  int64  \n",
      " 23  fbsmt_grade       200000 non-null  int64  \n",
      " 24  condition         200000 non-null  int64  \n",
      " 25  stories           200000 non-null  float64\n",
      " 26  beds              200000 non-null  int64  \n",
      " 27  bath_full         200000 non-null  int64  \n",
      " 28  bath_3qtr         200000 non-null  int64  \n",
      " 29  bath_half         200000 non-null  int64  \n",
      " 30  garb_sqft         200000 non-null  int64  \n",
      " 31  gara_sqft         200000 non-null  int64  \n",
      " 32  wfnt              200000 non-null  int64  \n",
      " 33  golf              200000 non-null  int64  \n",
      " 34  greenbelt         200000 non-null  int64  \n",
      " 35  noise_traffic     200000 non-null  int64  \n",
      " 36  view_rainier      200000 non-null  int64  \n",
      " 37  view_olympics     200000 non-null  int64  \n",
      " 38  view_cascades     200000 non-null  int64  \n",
      " 39  view_territorial  200000 non-null  int64  \n",
      " 40  view_skyline      200000 non-null  int64  \n",
      " 41  view_sound        200000 non-null  int64  \n",
      " 42  view_lakewash     200000 non-null  int64  \n",
      " 43  view_lakesamm     200000 non-null  int64  \n",
      " 44  view_otherwater   200000 non-null  int64  \n",
      " 45  view_other        200000 non-null  int64  \n",
      " 46  submarket         198283 non-null  object \n",
      "dtypes: float64(4), int64(36), object(7)\n",
      "memory usage: 71.7+ MB\n"
     ]
    }
   ],
   "source": [
    "df_train.info()"
   ]
  },
  {
   "cell_type": "code",
   "execution_count": 4,
   "id": "cf123ec5-1db7-4966-a452-216622e01b05",
   "metadata": {},
   "outputs": [],
   "source": [
    "df_train = df_train.drop('id', axis = 1)\n",
    "df_test = df_test.drop('id', axis = 1)"
   ]
  },
  {
   "cell_type": "code",
   "execution_count": 5,
   "id": "ae486e9b-b9d4-40c2-8e59-6b3b6fa984dd",
   "metadata": {},
   "outputs": [],
   "source": [
    "from sklearn.preprocessing import LabelEncoder"
   ]
  },
  {
   "cell_type": "code",
   "execution_count": 6,
   "id": "eaf27eea-45d6-43d5-bbed-7a4edd30e369",
   "metadata": {},
   "outputs": [],
   "source": [
    "label = LabelEncoder()"
   ]
  },
  {
   "cell_type": "code",
   "execution_count": 7,
   "id": "e50ebd01-c8ed-45c9-8925-97f58ae998db",
   "metadata": {},
   "outputs": [],
   "source": [
    "df_train['sale_date'] = pd.to_datetime(df_train['sale_date'])\n",
    "df_test['sale_date'] = pd.to_datetime(df_test['sale_date'])\n"
   ]
  },
  {
   "cell_type": "code",
   "execution_count": 8,
   "id": "d4dd2f48-9ee9-42b2-902d-d2e732f35208",
   "metadata": {},
   "outputs": [],
   "source": [
    "df_train['year'] = df_train['sale_date'].dt.year.astype(int)\n",
    "df_train['month'] = df_train['sale_date'].dt.month.astype(int)\n",
    "df_train['day'] = df_train['sale_date'].dt.day.astype(int)\n",
    "df_test['year'] = df_test['sale_date'].dt.year.astype(int)\n",
    "df_test['month'] = df_test['sale_date'].dt.month.astype(int)\n",
    "df_test['day'] = df_test['sale_date'].dt.day.astype(int)\n",
    "df_train = df_train.drop('sale_date', axis = 1)\n",
    "df_test = df_test.drop('sale_date', axis = 1)"
   ]
  },
  {
   "cell_type": "code",
   "execution_count": 9,
   "id": "06308312-5f62-4594-9681-9295e9e88ff0",
   "metadata": {},
   "outputs": [
    {
     "data": {
      "text/plain": [
       "sale_warning\n",
       "             180689\n",
       "26             6831\n",
       "15             3723\n",
       "40             2235\n",
       "41             1999\n",
       "              ...  \n",
       "26 44             1\n",
       "15 92             1\n",
       "10 29 45          1\n",
       "15 24             1\n",
       "3 60              1\n",
       "Name: count, Length: 142, dtype: int64"
      ]
     },
     "execution_count": 9,
     "metadata": {},
     "output_type": "execute_result"
    }
   ],
   "source": [
    "df_train['sale_warning'].value_counts()"
   ]
  },
  {
   "cell_type": "code",
   "execution_count": 10,
   "id": "14c07e88-a607-4157-88d7-d79c2ecb06b2",
   "metadata": {},
   "outputs": [
    {
     "name": "stdout",
     "output_type": "stream",
     "text": [
      "sale_warning\n",
      "             180689\n",
      "26             6831\n",
      "15             3723\n",
      "40             2235\n",
      "41             1999\n",
      "              ...  \n",
      "26 44             1\n",
      "15 92             1\n",
      "10 29 45          1\n",
      "15 24             1\n",
      "3 60              1\n",
      "Name: count, Length: 142, dtype: int64\n"
     ]
    }
   ],
   "source": [
    "print(df_train['sale_warning'].value_counts(dropna=False))"
   ]
  },
  {
   "cell_type": "code",
   "execution_count": 11,
   "id": "687704f8-6408-4db0-9143-c6f650c3e676",
   "metadata": {},
   "outputs": [],
   "source": [
    "df_train = df_train.drop('sale_warning', axis = 1)\n",
    "df_test = df_test.drop('sale_warning', axis = 1)"
   ]
  },
  {
   "cell_type": "code",
   "execution_count": 12,
   "id": "1c2784c8-cae0-4f4a-92af-71d202387f7e",
   "metadata": {},
   "outputs": [
    {
     "data": {
      "text/plain": [
       "join_status\n",
       "nochg               126281\n",
       "new                  53085\n",
       "reno - before         5864\n",
       "rebuilt - before      3706\n",
       "rebuilt - after       3095\n",
       "demo                  2869\n",
       "reno - after          2632\n",
       "miss99                2468\n",
       "Name: count, dtype: int64"
      ]
     },
     "execution_count": 12,
     "metadata": {},
     "output_type": "execute_result"
    }
   ],
   "source": [
    "df_train['join_status'].value_counts()"
   ]
  },
  {
   "cell_type": "code",
   "execution_count": 13,
   "id": "8f75736e-1424-40cb-a5a6-b58a0d3d1f29",
   "metadata": {},
   "outputs": [
    {
     "data": {
      "text/plain": [
       "join_status\n",
       "nochg               126519\n",
       "new                  52648\n",
       "reno - before         6001\n",
       "rebuilt - before      3568\n",
       "rebuilt - after       3146\n",
       "demo                  2866\n",
       "reno - after          2654\n",
       "miss99                2598\n",
       "Name: count, dtype: int64"
      ]
     },
     "execution_count": 13,
     "metadata": {},
     "output_type": "execute_result"
    }
   ],
   "source": [
    "df_test['join_status'].value_counts()"
   ]
  },
  {
   "cell_type": "code",
   "execution_count": 14,
   "id": "7ab9cd06-a389-4e64-8875-450c6ea85022",
   "metadata": {},
   "outputs": [],
   "source": [
    "df_train['join_status'] = label.fit_transform(df_train['join_status'])\n",
    "df_test['join_status'] = label.transform(df_test['join_status'])"
   ]
  },
  {
   "cell_type": "code",
   "execution_count": 15,
   "id": "0da4b476-6565-4d56-bea1-7d64179d21db",
   "metadata": {},
   "outputs": [
    {
     "data": {
      "text/plain": [
       "set()"
      ]
     },
     "execution_count": 15,
     "metadata": {},
     "output_type": "execute_result"
    }
   ],
   "source": [
    "set(df_test['city'].unique()).difference(set(df_train['city'].unique()))"
   ]
  },
  {
   "cell_type": "code",
   "execution_count": 16,
   "id": "96f6b43e-141f-43fc-b592-0954b097afff",
   "metadata": {},
   "outputs": [],
   "source": [
    "df_train['city'] = label.fit_transform(df_train['city'])\n",
    "df_test['city'] = label.transform(df_test['city'])"
   ]
  },
  {
   "cell_type": "code",
   "execution_count": 17,
   "id": "d47e4623-4ea7-4ee2-86b3-aa40574edbe0",
   "metadata": {},
   "outputs": [
    {
     "data": {
      "text/plain": [
       "{'A10P',\n",
       " 'A35P',\n",
       " 'C2-65',\n",
       " 'CBP',\n",
       " 'CD (P)',\n",
       " 'CO',\n",
       " 'CS',\n",
       " 'Co',\n",
       " 'DN',\n",
       " 'EP',\n",
       " 'HR (M)',\n",
       " 'IB U/45',\n",
       " 'IC',\n",
       " 'IP',\n",
       " 'L-1 RC',\n",
       " 'LR3 RC',\n",
       " 'MA',\n",
       " 'MIO-37-LR1 (M)',\n",
       " 'MIO-50-NC2-40',\n",
       " 'MR RC (M)',\n",
       " 'MR RC (M1)',\n",
       " 'MU16',\n",
       " 'O/C/MU',\n",
       " 'OP',\n",
       " 'PLA 13 B',\n",
       " 'PLA 7 B',\n",
       " 'PLA 7B',\n",
       " 'R 11',\n",
       " 'R 4000, OP, CB',\n",
       " 'R 5400d, SSHO',\n",
       " 'R-SR',\n",
       " 'R15 OP CB',\n",
       " 'R4 SSHO',\n",
       " 'R8PSO',\n",
       " 'RCC',\n",
       " 'RCM',\n",
       " 'RM 2.4',\n",
       " 'RM 900',\n",
       " 'RM.9B',\n",
       " 'RMA 2.4',\n",
       " 'RO-H',\n",
       " 'RSX 12.5',\n",
       " 'SM-NR 95 (M)',\n",
       " 'SM-UP 65 (M)',\n",
       " 'SM-UP 85 (M)',\n",
       " 'SR 1'}"
      ]
     },
     "execution_count": 17,
     "metadata": {},
     "output_type": "execute_result"
    }
   ],
   "source": [
    "set(df_test['zoning'].unique()).difference(set(df_train['zoning'].unique()))"
   ]
  },
  {
   "cell_type": "code",
   "execution_count": 18,
   "id": "ec83a62a-e15c-43be-b837-af84c670c8b4",
   "metadata": {},
   "outputs": [],
   "source": [
    "df_train = df_train.drop('zoning', axis = 1)\n",
    "df_test = df_test.drop('zoning', axis = 1)"
   ]
  },
  {
   "cell_type": "code",
   "execution_count": 19,
   "id": "b616d796-ae3b-4d70-99fd-b4df719c1cbc",
   "metadata": {},
   "outputs": [
    {
     "data": {
      "text/plain": [
       "{'ABRAHAMS PARK ADD TO AUBURN',\n",
       " 'ALKI POINT SUBDIV TRACT P',\n",
       " 'ALPINE GLEN',\n",
       " 'ANGELIA HEIGHTS',\n",
       " 'ANGELINE TOWNHOUSES',\n",
       " 'B JS 100TH AVE TRACTS',\n",
       " \"BALADAD AND ESPINOSA'S ADDITION\",\n",
       " 'BALBERDE ADD',\n",
       " 'BARKER & PANTING ADD TO WINSOR',\n",
       " 'BARQUIST ADD',\n",
       " 'BASSETS S J PLAT ADD',\n",
       " 'BATTISTI ADD TO KENT',\n",
       " 'BEL-GLEN ADD',\n",
       " 'BELLEVUE WOODS',\n",
       " 'BELWAY ADD NO. 02',\n",
       " 'BERLIN TOWN OF',\n",
       " 'BESTS REPLAT OF POR-POTTERY WORKS',\n",
       " 'BEVERLY PK DIV. NO. 04',\n",
       " 'BILL RUTH ADD',\n",
       " 'BONNIE GLEN MANOR ADD',\n",
       " 'BORG HEIGHTS DIV A',\n",
       " 'BOTHELL CORRECTION PLAT TOWN OF',\n",
       " 'BOTTING DAVID A 1ST ADD TO AUBURN',\n",
       " 'BOYDS ADD',\n",
       " 'BOYDSTONS 1ST ADD',\n",
       " 'BRADLEY ESTATES',\n",
       " 'BRISTOW ADD',\n",
       " 'BROOK TRAILS ESTATES NO. 02 REPLAT',\n",
       " 'BROOKSIDE ESTATES ADD',\n",
       " 'BURWOOD ADD',\n",
       " 'BUSH JAMES ADD',\n",
       " 'CAMBORNE',\n",
       " 'CAMBORNE ACRES',\n",
       " 'CANYON VIEW ESTATES',\n",
       " 'CARROLL ESTATES',\n",
       " 'CECELIA ELLEN ADD',\n",
       " 'CEDAR RIVER CAMP SITES ADD',\n",
       " 'CEDAR VISTA',\n",
       " 'CENTRAL ADD TO COLUMBIA',\n",
       " 'CERINIS ADD',\n",
       " 'CICHY ADD DIV NO. 01',\n",
       " 'CIRCLE CEDAR PARK',\n",
       " 'CLAREMONT REPLAT POR BLKS 4 TO 6',\n",
       " 'CLEAR WATER COURT',\n",
       " 'CLYDEVIEW ADD',\n",
       " 'COLEWOOD',\n",
       " 'COLUMBIA LUMBER CO TO KIRKLAND',\n",
       " 'COMMONS NO. O2 THE',\n",
       " 'CORDELL TRACTS',\n",
       " 'COTTOM GLEN',\n",
       " 'COUNTRY CLUB HOME TRS',\n",
       " 'COUNTRY SIDE ADD',\n",
       " 'COUNTRY VILLAGE ADD',\n",
       " 'COVELLO ESTATES',\n",
       " 'COZY COVE HAVEN',\n",
       " 'CRESTMONT NO. 03',\n",
       " 'CROOK WILLIAMS MER ISL ADD',\n",
       " 'CROSS ADD TO CITY OF KENT',\n",
       " 'CROWELLS ADD',\n",
       " 'CURTIN ADD',\n",
       " 'DASHLEYS W A LAKE ADD',\n",
       " 'DEHNS ADD VACATED',\n",
       " 'DENNYS A A BROADWAY ADD',\n",
       " 'DILWORTH POINT ADD',\n",
       " 'DONALDSONS REPLAT',\n",
       " 'DONNA CLAIRE ADD',\n",
       " 'EAST COFIELD',\n",
       " 'EASTCREST NO. 02',\n",
       " 'EDEN ADD',\n",
       " 'EDGECLIFFE',\n",
       " 'ELAN',\n",
       " 'ENATAI ADD',\n",
       " 'EPLERS DIV OF GREEN LAKE ADD',\n",
       " 'EPPERLY ADD TO ENUMCLAW',\n",
       " 'FARRELLS ADD',\n",
       " 'FAUNTLEE CREST',\n",
       " 'FEW FIRS',\n",
       " 'FIRLANDS THE',\n",
       " 'FIRLOCH NO. 03',\n",
       " 'FLYING HORSESHOE TRS',\n",
       " 'FRAZIERS ADD',\n",
       " 'FUGITTS HIGHLANDER PARK FIRST ADD',\n",
       " 'GALARNEAU ADD',\n",
       " 'GARBARINO',\n",
       " 'GARDNERS ADD',\n",
       " \"GILBO'S 2ND ADD\",\n",
       " 'GLENGARRY ADD',\n",
       " 'GOLD CREEK VISTA ADD',\n",
       " 'GOODFELLOWS HOME TRS DIV NO. 01',\n",
       " 'GRANS SECOND ADD',\n",
       " 'GREENBRIER POINTE',\n",
       " 'HAGANS EXTENSION TO STAR ADD',\n",
       " 'HAMILTON HEIGHTS NO. 04',\n",
       " 'HANFORDS T TO SEATTLE BLK 22-24',\n",
       " 'HANSONS H W ADD TO ENUMCLAW',\n",
       " 'HARVEYS DAVE ADD',\n",
       " 'HATTENS VALLEY VIEW ESTATES ADD',\n",
       " 'HI-CREST ADD',\n",
       " 'HIATT PARK A BINDING SITE PLAN',\n",
       " 'HIDDEN VILLAGE ADD',\n",
       " 'HIGHLANDER VILLAGE NO. 03',\n",
       " 'HORIZON HILLS DIV NO. 02',\n",
       " 'HUDLICKY ADD',\n",
       " 'IMOGENS ADD',\n",
       " 'INGLEMOOR',\n",
       " 'INMO ESTATES',\n",
       " 'INTERURBAN HEIGHTS 4TH SEC',\n",
       " 'ISLAND HEIGHTS',\n",
       " 'IVANHOE CIRCLE',\n",
       " 'JACKSONS HOME SITES ADD',\n",
       " 'JAMES SUBDIV',\n",
       " 'JENKINS PARK',\n",
       " 'JENSEN KARL ADD TO ENUMCLAW',\n",
       " 'JOHNSON, JAMES ADD',\n",
       " 'JOHNSONS FRANK ADD TO NORTH BEND',\n",
       " 'JONES SUPL BLK 11 BURKES 2ND ADD',\n",
       " \"KANTOR'S HEIGHTS\",\n",
       " 'KILLARNEY SHOREWOODS',\n",
       " 'KLINES 1ST ADD TO AUBURN',\n",
       " 'KNAPPS ADD',\n",
       " 'KNISHKA SLOPE ADD',\n",
       " 'KNOWLES LLOYD A 3RD ADD',\n",
       " 'LA VELLE ADD',\n",
       " 'LAKE # 38 & 41',\n",
       " 'LAKE CREST PARK DIV NO. 02',\n",
       " 'LAKE DOLLOFF TERRACE ADD',\n",
       " 'LAKE FIRS ADD',\n",
       " 'LAKE VISTA TERRACE DIV NO. 01',\n",
       " 'LAKELAND DIV NO. 12 PH 02',\n",
       " 'LASSITERS MADRONA HEIGHTS NO. 02',\n",
       " 'LAURELWOOD SOUTH DIV NO. 07',\n",
       " 'LEDGEBROOK',\n",
       " 'LEMASTERS ADD',\n",
       " 'LEONARD HOMES ADD',\n",
       " 'LINDER ADD',\n",
       " 'LOUISES NORTH LAKE TRS',\n",
       " 'LUCAS HILL ADD',\n",
       " 'LUCAS HILL DIV NO. 04',\n",
       " 'LUCAS HILL DIV NO. 06',\n",
       " 'LYNN MOLLIE ADD',\n",
       " 'MAGNOLIA BEACH',\n",
       " 'MAPLEWILD',\n",
       " 'MARINE HILLS NO. 08',\n",
       " 'MARINE HILLS NO. 15',\n",
       " 'MARSHALLS TERRACE ADD',\n",
       " 'MARTINDALE ADD',\n",
       " 'MAYBROOK PARK ADD',\n",
       " 'MC GOVERNS CEDARCREST ADD',\n",
       " 'MC INTYRES SUNNY SLOPE NO. 02',\n",
       " 'MC LAUGHLINS LOTS ADD',\n",
       " 'MEADOWMOOR',\n",
       " 'MERCER MEADOWS',\n",
       " 'MERRITTS 1ST ADD TO AUBURN',\n",
       " 'MICKELSONS S G SUNNYSIDE TO KENT',\n",
       " 'MIL-BOY ADD',\n",
       " \"MILAM'S HIDDEN TERRACE\",\n",
       " 'MILL CREEK VIEW TRS NO. 02',\n",
       " \"MILLER'S 2ND ADD\",\n",
       " 'MILLERS WESTWOOD ADD',\n",
       " 'MONTAGNA PARK ADD',\n",
       " 'MONTBEACON ADD',\n",
       " 'MOUNT VIEW ADD',\n",
       " 'MOUNTAIN VIEW HOME TRS',\n",
       " 'MOUNTAIN VILLAGE ADD',\n",
       " 'MYLOS 2ND ADD',\n",
       " 'MYSTERY MEADOWS',\n",
       " 'NAGELS ADD',\n",
       " 'NESS JOHN T ADD',\n",
       " 'NICKELSEN ADD TO AUBURN',\n",
       " 'NORMANDY PARK ESTATES NO. 02',\n",
       " 'NORMANDY PARK ESTATES NO. 03',\n",
       " 'NORTH ANGLE LAKE TRS',\n",
       " 'NORTHCAPE ADDITION',\n",
       " 'NORTHUPS ACRE TRS',\n",
       " 'O BEIRNS ADD',\n",
       " 'OLYMPIC',\n",
       " 'OLYMPIC CIRCLE',\n",
       " 'OLYMPIC HEIGHTS ADD TO KIRKLAND',\n",
       " 'OLYMPIC WEST',\n",
       " 'OSCARS ADD',\n",
       " 'OVERLOOK HAVEN',\n",
       " 'PACK LANE ADD',\n",
       " 'PALISADES HEIGHTS',\n",
       " 'PALMER HEIGHTS NO. 01',\n",
       " 'PAN TERRA HEIGHTS NO. 02',\n",
       " 'PANTHER LAKE ESTATES',\n",
       " 'PARKS AMBAUM VILLA ADD',\n",
       " 'PARKSIDE ADD TO BELLEVUE',\n",
       " \"PAUL'S LITTLE ACRE\",\n",
       " 'PENA SUBDIVISION',\n",
       " 'PERRIGOS PLAT OF REDMOND',\n",
       " 'PHILLIPS FAIRVIEW ADD',\n",
       " 'POMEROYS ADD TO BLAKLEY MANOR',\n",
       " 'POND-STENBERG ADD',\n",
       " 'POWELLS 5TH ADD',\n",
       " 'PROPST ESTATES',\n",
       " 'QODESH',\n",
       " 'RAINBOW BEND ADD',\n",
       " 'RAINIER ADD TO ENUMCLAW',\n",
       " 'RANTZ ADD',\n",
       " 'REDMOND 10',\n",
       " 'REDONDO HIGHLANDS NO. 04',\n",
       " 'REDONDO HIGHLANDS NO. 07',\n",
       " 'REGAL SITES',\n",
       " 'RHOADS ADD NO. 02',\n",
       " 'RICHARDS NORTH LAKE ACRES',\n",
       " 'RICHMOND BEACH COURT',\n",
       " 'RIEGERS ADD',\n",
       " 'RIO VISTA RANCHETTES',\n",
       " 'ROBINSON PARK ADD DIV NO. 02',\n",
       " 'ROBINSONS COTTAGE TRACTS',\n",
       " 'ROGERS G H 1ST ADD',\n",
       " 'RONLE ADD',\n",
       " 'ROSEMONT VISTA',\n",
       " 'ROSETTA TERRACE',\n",
       " 'ROSTEDT ADD TO KIRKLAND',\n",
       " 'ROYAL WOODS MANOR',\n",
       " 'SALT BREEZE ADD',\n",
       " 'SANDAAS ADD',\n",
       " 'SCHENK ADD',\n",
       " 'SCHNEIDER HOMES NO. 02',\n",
       " 'SEA POINT TERRACE ADD',\n",
       " 'SECLUDED TERRACE PARK ADD',\n",
       " 'SHADY LANE',\n",
       " 'SHORELINE MANOR NO. 02',\n",
       " 'SHORTRIDGE PARK PLAT',\n",
       " 'SI VIEW ESTATES DIV NO. 02',\n",
       " 'SILVER SPURS RANCH NO. 02',\n",
       " 'SINE AULICK & GOLDA ADD',\n",
       " 'SMITHERS 6TH ADD TO RENTON',\n",
       " 'SOUTHARD',\n",
       " 'SOUTHMOOR NO. 02',\n",
       " 'SPRINGBROOKE HILL',\n",
       " 'ST ONGES 1ST ADD',\n",
       " 'STILLWATER ADD',\n",
       " 'STRONGS ADD',\n",
       " 'STUTZ ANGLE LAKE VIEW',\n",
       " 'SUMMIT II',\n",
       " 'SUTTLE B H ADD',\n",
       " 'SYCAMORE KNOLL DIV NO. 02',\n",
       " 'SYLVIA',\n",
       " 'TANGLEWOOD PARK ADD',\n",
       " 'TANGLEWOOD PARK NO. 02',\n",
       " 'TANSKAS PINE LAKE ADD',\n",
       " 'TEN TRAILS PLAT 2D DIVISION 3',\n",
       " 'TEN TRAILS PP1A DIVISION 6',\n",
       " 'THOMSENS REPLAT',\n",
       " 'THORNBERGS 5TH ADD',\n",
       " 'THUNDERBIRD ESTATES DIV NO. 02',\n",
       " 'TIMBERLAND NO. 05',\n",
       " 'TINCHER ADD',\n",
       " 'TOLT PLACE',\n",
       " 'TOP O YARROW ADD',\n",
       " 'TURKS ADD TO COLUMBIA',\n",
       " 'TURNERS H S DIV NO. 01',\n",
       " 'TWIN FIRS',\n",
       " 'TYCHE PARK',\n",
       " 'UPPERS H S 1ST ADD TO ISSAQUAH',\n",
       " 'UPPERS H S 3RD ADD TO ISSAQUAH',\n",
       " 'URIGS ADD',\n",
       " 'VALORIE LANE ADD',\n",
       " 'VAN KLEECKS ADD',\n",
       " 'VASA PARK RECREATION TRS',\n",
       " 'VERDE LANE',\n",
       " 'VICTORY WAY ADD',\n",
       " 'WAGERS ADD',\n",
       " 'WALKERS GARDEN TRS',\n",
       " 'WESTPHAL DEAN ADD TO BELLEVUE',\n",
       " 'WESTWOOD HOMES NO. 02',\n",
       " 'WHITESIDE ADD DIV NO. 01',\n",
       " 'WHITESPAR DIV NO. 01',\n",
       " 'WILDWOOD LANE NO. 04',\n",
       " 'WILLIAMS SUNNY SLOPES ADD',\n",
       " 'WILLIS SOUNDVIEW ADD',\n",
       " 'WILLOW RIDGE PH 02',\n",
       " 'WILLSTINA ADD NO. 02',\n",
       " 'WOOD HILL NO. 03',\n",
       " 'WOODCREST RIDGE',\n",
       " 'WOODMONT PARK ESTATES ADD',\n",
       " 'WOODSIDE ESTATES ADD',\n",
       " 'YOUNGS E S ADD TO W S',\n",
       " 'YOUNGS HALF-ACRE TRS'}"
      ]
     },
     "execution_count": 19,
     "metadata": {},
     "output_type": "execute_result"
    }
   ],
   "source": [
    "set(df_test['subdivision'].unique()).difference(set(df_train['subdivision'].unique()))"
   ]
  },
  {
   "cell_type": "code",
   "execution_count": 20,
   "id": "1f9c205d-55ab-492c-849f-e22d3dd89f3d",
   "metadata": {},
   "outputs": [],
   "source": [
    "df_train = df_train.drop('subdivision', axis = 1)\n",
    "df_test = df_test.drop('subdivision', axis = 1)"
   ]
  },
  {
   "cell_type": "code",
   "execution_count": 21,
   "id": "1d2e7713-5b29-497f-a1fc-c5c17f4a97df",
   "metadata": {},
   "outputs": [
    {
     "data": {
      "text/plain": [
       "set()"
      ]
     },
     "execution_count": 21,
     "metadata": {},
     "output_type": "execute_result"
    }
   ],
   "source": [
    "set(df_test['submarket'].unique()).difference(set(df_train['submarket'].unique()))"
   ]
  },
  {
   "cell_type": "code",
   "execution_count": 22,
   "id": "476ad5e8-5979-41c1-9fec-8407487d06ac",
   "metadata": {},
   "outputs": [
    {
     "data": {
      "text/plain": [
       "submarket\n",
       "K    21002\n",
       "B    16289\n",
       "I    15842\n",
       "R    14404\n",
       "Q    14005\n",
       "O    12528\n",
       "D    12404\n",
       "F    12401\n",
       "M    10722\n",
       "L    10579\n",
       "C    10091\n",
       "N    10052\n",
       "A     7588\n",
       "P     6971\n",
       "E     6743\n",
       "G     6144\n",
       "J     5789\n",
       "S     3672\n",
       "H     1057\n",
       "Name: count, dtype: int64"
      ]
     },
     "execution_count": 22,
     "metadata": {},
     "output_type": "execute_result"
    }
   ],
   "source": [
    "df_train['submarket'].value_counts()"
   ]
  },
  {
   "cell_type": "code",
   "execution_count": 23,
   "id": "286d158c-34a6-4293-8fa7-d5432073bee3",
   "metadata": {},
   "outputs": [
    {
     "data": {
      "text/plain": [
       "{'K': np.float64(10.611654108794545),\n",
       " 'B': np.float64(8.352750123561393),\n",
       " 'I': np.float64(7.908937775491472),\n",
       " 'R': np.float64(7.337025045137733),\n",
       " 'Q': np.float64(7.081328612783813),\n",
       " 'D': np.float64(6.335925600911832),\n",
       " 'O': np.float64(6.299613681524294),\n",
       " 'F': np.float64(6.173530628095339),\n",
       " 'L': np.float64(5.310618210427573),\n",
       " 'M': np.float64(5.2975055728709615),\n",
       " 'C': np.float64(5.148223237611079),\n",
       " 'N': np.float64(4.965150644032237),\n",
       " 'A': np.float64(3.770891961953178),\n",
       " 'P': np.float64(3.5333514892930267),\n",
       " 'E': np.float64(3.3346445970889946),\n",
       " 'G': np.float64(3.115764416336329),\n",
       " 'J': np.float64(3.029019275577208),\n",
       " 'S': np.float64(1.8665335229622457),\n",
       " 'H': np.float64(0.5275314955467465)}"
      ]
     },
     "execution_count": 23,
     "metadata": {},
     "output_type": "execute_result"
    }
   ],
   "source": [
    "def calculate_value_percentages_and_fill_nans(df, column_name):\n",
    "    col = df[column_name]\n",
    "    non_zero = col[col != 0]\n",
    "    if len(non_zero) == 0:\n",
    "        return {val: 0 for val in col.unique()}\n",
    "    \n",
    "    counts = non_zero.value_counts()\n",
    "    total = counts.sum()\n",
    "    percentages = {val: (count / total) * 100 for val, count in counts.items()}\n",
    "    \n",
    "    missing = df[column_name].isna()\n",
    "    if missing.any():\n",
    "        choices = list(percentages.keys())\n",
    "        probs = [percentages[c] / 100 for c in choices]\n",
    "        df.loc[missing, column_name] = np.random.choice(choices, size=missing.sum(), p=probs)\n",
    "    \n",
    "    return percentages\n",
    "\n",
    "calculate_value_percentages_and_fill_nans(df_train, 'submarket')\n",
    "calculate_value_percentages_and_fill_nans(df_test, 'submarket')"
   ]
  },
  {
   "cell_type": "code",
   "execution_count": 24,
   "id": "60e238c6-971b-4001-ad96-ef695ca285f0",
   "metadata": {},
   "outputs": [
    {
     "name": "stdout",
     "output_type": "stream",
     "text": [
      "<class 'pandas.core.frame.DataFrame'>\n",
      "RangeIndex: 200000 entries, 0 to 199999\n",
      "Data columns (total 45 columns):\n",
      " #   Column            Non-Null Count   Dtype  \n",
      "---  ------            --------------   -----  \n",
      " 0   sale_price        200000 non-null  int64  \n",
      " 1   sale_nbr          157818 non-null  float64\n",
      " 2   join_status       200000 non-null  int64  \n",
      " 3   join_year         200000 non-null  int64  \n",
      " 4   latitude          200000 non-null  float64\n",
      " 5   longitude         200000 non-null  float64\n",
      " 6   area              200000 non-null  int64  \n",
      " 7   city              200000 non-null  int64  \n",
      " 8   present_use       200000 non-null  int64  \n",
      " 9   land_val          200000 non-null  int64  \n",
      " 10  imp_val           200000 non-null  int64  \n",
      " 11  year_built        200000 non-null  int64  \n",
      " 12  year_reno         200000 non-null  int64  \n",
      " 13  sqft_lot          200000 non-null  int64  \n",
      " 14  sqft              200000 non-null  int64  \n",
      " 15  sqft_1            200000 non-null  int64  \n",
      " 16  sqft_fbsmt        200000 non-null  int64  \n",
      " 17  grade             200000 non-null  int64  \n",
      " 18  fbsmt_grade       200000 non-null  int64  \n",
      " 19  condition         200000 non-null  int64  \n",
      " 20  stories           200000 non-null  float64\n",
      " 21  beds              200000 non-null  int64  \n",
      " 22  bath_full         200000 non-null  int64  \n",
      " 23  bath_3qtr         200000 non-null  int64  \n",
      " 24  bath_half         200000 non-null  int64  \n",
      " 25  garb_sqft         200000 non-null  int64  \n",
      " 26  gara_sqft         200000 non-null  int64  \n",
      " 27  wfnt              200000 non-null  int64  \n",
      " 28  golf              200000 non-null  int64  \n",
      " 29  greenbelt         200000 non-null  int64  \n",
      " 30  noise_traffic     200000 non-null  int64  \n",
      " 31  view_rainier      200000 non-null  int64  \n",
      " 32  view_olympics     200000 non-null  int64  \n",
      " 33  view_cascades     200000 non-null  int64  \n",
      " 34  view_territorial  200000 non-null  int64  \n",
      " 35  view_skyline      200000 non-null  int64  \n",
      " 36  view_sound        200000 non-null  int64  \n",
      " 37  view_lakewash     200000 non-null  int64  \n",
      " 38  view_lakesamm     200000 non-null  int64  \n",
      " 39  view_otherwater   200000 non-null  int64  \n",
      " 40  view_other        200000 non-null  int64  \n",
      " 41  submarket         200000 non-null  object \n",
      " 42  year              200000 non-null  int64  \n",
      " 43  month             200000 non-null  int64  \n",
      " 44  day               200000 non-null  int64  \n",
      "dtypes: float64(4), int64(40), object(1)\n",
      "memory usage: 68.7+ MB\n"
     ]
    }
   ],
   "source": [
    "df_train.info()"
   ]
  },
  {
   "cell_type": "code",
   "execution_count": 25,
   "id": "93c6a6e1-d400-4de3-83f6-02f5789d0f6d",
   "metadata": {},
   "outputs": [
    {
     "data": {
      "text/plain": [
       "{2.0: np.float64(38.69012869000178),\n",
       " 1.0: np.float64(30.39317714546793),\n",
       " 3.0: np.float64(19.13216742391553),\n",
       " 4.0: np.float64(7.899713176130161),\n",
       " 5.0: np.float64(2.7673426910678476),\n",
       " 6.0: np.float64(0.8369926644160722),\n",
       " 7.0: np.float64(0.2087722415412341),\n",
       " 8.0: np.float64(0.05647638145036424),\n",
       " 9.0: np.float64(0.008883925171967408),\n",
       " 10.0: np.float64(0.0038073965022717465),\n",
       " 15.0: np.float64(0.0006345660837119578),\n",
       " 11.0: np.float64(0.0006345660837119578),\n",
       " 12.0: np.float64(0.0006345660837119578),\n",
       " 13.0: np.float64(0.0006345660837119578)}"
      ]
     },
     "execution_count": 25,
     "metadata": {},
     "output_type": "execute_result"
    }
   ],
   "source": [
    "def calculate_value_percentages_and_fill_nans(df, column_name):\n",
    "    col = df[column_name]\n",
    "    non_zero = col[col != 0]\n",
    "    if len(non_zero) == 0:\n",
    "        return {val: 0 for val in col.unique()}\n",
    "    \n",
    "    counts = non_zero.value_counts()\n",
    "    total = counts.sum()\n",
    "    percentages = {val: (count / total) * 100 for val, count in counts.items()}\n",
    "    \n",
    "    missing = df[column_name].isna()\n",
    "    if missing.any():\n",
    "        choices = list(percentages.keys())\n",
    "        probs = [percentages[c] / 100 for c in choices]\n",
    "        df.loc[missing, column_name] = np.random.choice(choices, size=missing.sum(), p=probs)\n",
    "    \n",
    "    return percentages\n",
    "\n",
    "calculate_value_percentages_and_fill_nans(df_train, 'sale_nbr')\n",
    "calculate_value_percentages_and_fill_nans(df_test, 'sale_nbr')"
   ]
  },
  {
   "cell_type": "code",
   "execution_count": 26,
   "id": "03ba95e6-942d-456c-b4bc-2308a2300e80",
   "metadata": {},
   "outputs": [],
   "source": [
    "df_train['submarket'] = label.fit_transform(df_train['submarket'])\n",
    "df_test['submarket'] = label.transform(df_test['submarket'])"
   ]
  },
  {
   "cell_type": "code",
   "execution_count": 27,
   "id": "39b081d5-b016-4803-844b-9fcd3a20b8f6",
   "metadata": {},
   "outputs": [
    {
     "name": "stdout",
     "output_type": "stream",
     "text": [
      "<class 'pandas.core.frame.DataFrame'>\n",
      "RangeIndex: 200000 entries, 0 to 199999\n",
      "Data columns (total 44 columns):\n",
      " #   Column            Non-Null Count   Dtype  \n",
      "---  ------            --------------   -----  \n",
      " 0   sale_nbr          200000 non-null  float64\n",
      " 1   join_status       200000 non-null  int64  \n",
      " 2   join_year         200000 non-null  int64  \n",
      " 3   latitude          200000 non-null  float64\n",
      " 4   longitude         200000 non-null  float64\n",
      " 5   area              200000 non-null  int64  \n",
      " 6   city              200000 non-null  int64  \n",
      " 7   present_use       200000 non-null  int64  \n",
      " 8   land_val          200000 non-null  int64  \n",
      " 9   imp_val           200000 non-null  int64  \n",
      " 10  year_built        200000 non-null  int64  \n",
      " 11  year_reno         200000 non-null  int64  \n",
      " 12  sqft_lot          200000 non-null  int64  \n",
      " 13  sqft              200000 non-null  int64  \n",
      " 14  sqft_1            200000 non-null  int64  \n",
      " 15  sqft_fbsmt        200000 non-null  int64  \n",
      " 16  grade             200000 non-null  int64  \n",
      " 17  fbsmt_grade       200000 non-null  int64  \n",
      " 18  condition         200000 non-null  int64  \n",
      " 19  stories           200000 non-null  float64\n",
      " 20  beds              200000 non-null  int64  \n",
      " 21  bath_full         200000 non-null  int64  \n",
      " 22  bath_3qtr         200000 non-null  int64  \n",
      " 23  bath_half         200000 non-null  int64  \n",
      " 24  garb_sqft         200000 non-null  int64  \n",
      " 25  gara_sqft         200000 non-null  int64  \n",
      " 26  wfnt              200000 non-null  int64  \n",
      " 27  golf              200000 non-null  int64  \n",
      " 28  greenbelt         200000 non-null  int64  \n",
      " 29  noise_traffic     200000 non-null  int64  \n",
      " 30  view_rainier      200000 non-null  int64  \n",
      " 31  view_olympics     200000 non-null  int64  \n",
      " 32  view_cascades     200000 non-null  int64  \n",
      " 33  view_territorial  200000 non-null  int64  \n",
      " 34  view_skyline      200000 non-null  int64  \n",
      " 35  view_sound        200000 non-null  int64  \n",
      " 36  view_lakewash     200000 non-null  int64  \n",
      " 37  view_lakesamm     200000 non-null  int64  \n",
      " 38  view_otherwater   200000 non-null  int64  \n",
      " 39  view_other        200000 non-null  int64  \n",
      " 40  submarket         200000 non-null  int64  \n",
      " 41  year              200000 non-null  int64  \n",
      " 42  month             200000 non-null  int64  \n",
      " 43  day               200000 non-null  int64  \n",
      "dtypes: float64(4), int64(40)\n",
      "memory usage: 67.1 MB\n"
     ]
    }
   ],
   "source": [
    "df_test.info()"
   ]
  },
  {
   "cell_type": "code",
   "execution_count": 28,
   "id": "2ad200e7-6bd2-4b27-8767-a39226cada78",
   "metadata": {},
   "outputs": [
    {
     "data": {
      "text/plain": [
       "<Axes: xlabel='sale_nbr'>"
      ]
     },
     "execution_count": 28,
     "metadata": {},
     "output_type": "execute_result"
    },
    {
     "data": {
      "image/png": "[encoded data removed]",
      "text/plain": [
       "<Figure size 640x480 with 1 Axes>"
      ]
     },
     "metadata": {},
     "output_type": "display_data"
    }
   ],
   "source": [
    "sns.boxplot(x=df_train['sale_nbr'])"
   ]
  },
  {
   "cell_type": "code",
   "execution_count": 29,
   "id": "1157ab7c-8f1d-436b-b309-d4ce09b17795",
   "metadata": {},
   "outputs": [
    {
     "data": {
      "text/plain": [
       "<Axes: xlabel='sale_nbr'>"
      ]
     },
     "execution_count": 29,
     "metadata": {},
     "output_type": "execute_result"
    },
    {
     "data": {
      "image/png": "[encoded data removed]",
      "text/plain": [
       "<Figure size 640x480 with 1 Axes>"
      ]
     },
     "metadata": {},
     "output_type": "display_data"
    }
   ],
   "source": [
    "sns.boxplot(x=df_test['sale_nbr'])"
   ]
  },
  {
   "cell_type": "code",
   "execution_count": 30,
   "id": "60a2cc0d-1e8b-4bc4-9b55-226871ca3101",
   "metadata": {},
   "outputs": [],
   "source": [
    "df_train['sale_nbr'] = df_train['sale_nbr'].apply(lambda x: df_train['sale_nbr'].median() if x > 6 else x)\n",
    "df_test['sale_nbr'] = df_test['sale_nbr'].apply(lambda x: df_test['sale_nbr'].median() if x > 6 else x)"
   ]
  },
  {
   "cell_type": "code",
   "execution_count": 31,
   "id": "588d96ab-ba13-4c5e-a16e-8aadc828701c",
   "metadata": {},
   "outputs": [
    {
     "data": {
      "text/plain": [
       "land_val\n",
       "207000     1724\n",
       "216000     1446\n",
       "0          1339\n",
       "375000     1183\n",
       "177000     1052\n",
       "           ... \n",
       "400646        1\n",
       "1689000       1\n",
       "32294         1\n",
       "3584000       1\n",
       "3639000       1\n",
       "Name: count, Length: 3186, dtype: int64"
      ]
     },
     "execution_count": 31,
     "metadata": {},
     "output_type": "execute_result"
    }
   ],
   "source": [
    "df_train['land_val'].value_counts()"
   ]
  },
  {
   "cell_type": "code",
   "execution_count": 32,
   "id": "08001698-ea56-4286-afee-9d6c12dcc624",
   "metadata": {},
   "outputs": [
    {
     "data": {
      "text/plain": [
       "<Axes: xlabel='land_val'>"
      ]
     },
     "execution_count": 32,
     "metadata": {},
     "output_type": "execute_result"
    },
    {
     "data": {
      "image/png": "[encoded data removed]",
      "text/plain": [
       "<Figure size 640x480 with 1 Axes>"
      ]
     },
     "metadata": {},
     "output_type": "display_data"
    }
   ],
   "source": [
    "sns.boxplot(x=df_train['land_val'])"
   ]
  },
  {
   "cell_type": "code",
   "execution_count": 33,
   "id": "c736e7f3-aeda-4ae6-b0cd-35b6b2e06898",
   "metadata": {},
   "outputs": [
    {
     "name": "stdout",
     "output_type": "stream",
     "text": [
      "1138500.0\n"
     ]
    }
   ],
   "source": [
    "desc = df_train['land_val'].describe()\n",
    "Q1 = desc['25%']\n",
    "Q3 = desc['75%']\n",
    "IQR = Q3 - Q1\n",
    "upper = Q3 + 1.5 * IQR\n",
    "print(upper)"
   ]
  },
  {
   "cell_type": "code",
   "execution_count": 34,
   "id": "0c1bda8b-8807-44e7-96fd-3429e27c1688",
   "metadata": {},
   "outputs": [],
   "source": [
    "df_train['land_val'] = df_train['land_val'].apply(lambda x: df_train['land_val'].median() if x >= 7800000 else x)\n",
    "df_test['land_val'] = df_test['land_val'].apply(lambda x: df_test['land_val'].median() if x > 7800000 else x)"
   ]
  },
  {
   "cell_type": "code",
   "execution_count": 35,
   "id": "81cb6c88-4564-45d6-a0d5-afdf2ae04ed8",
   "metadata": {},
   "outputs": [
    {
     "data": {
      "text/plain": [
       "<Axes: xlabel='imp_val'>"
      ]
     },
     "execution_count": 35,
     "metadata": {},
     "output_type": "execute_result"
    },
    {
     "data": {
      "image/png": "[encoded data removed]",
      "text/plain": [
       "<Figure size 640x480 with 1 Axes>"
      ]
     },
     "metadata": {},
     "output_type": "display_data"
    }
   ],
   "source": [
    "sns.boxplot(x=df_train['imp_val'])"
   ]
  },
  {
   "cell_type": "code",
   "execution_count": 36,
   "id": "5da85305-37cd-408d-9a82-e9f7046d65f0",
   "metadata": {},
   "outputs": [],
   "source": [
    "df_train['imp_val'] = df_train['imp_val'].apply(lambda x: df_train['imp_val'].median() if x >= 7500000 else x)\n",
    "df_test['imp_val'] = df_test['imp_val'].apply(lambda x: df_test['imp_val'].median() if x > 6500000 else x)"
   ]
  },
  {
   "cell_type": "code",
   "execution_count": 37,
   "id": "7dbafa10-b696-490c-a5ba-b47894d8b802",
   "metadata": {},
   "outputs": [
    {
     "data": {
      "text/plain": [
       "sqft_lot\n",
       "5000     3413\n",
       "6000     2765\n",
       "4000     2354\n",
       "7200     2144\n",
       "4800     1147\n",
       "         ... \n",
       "17753       1\n",
       "35216       1\n",
       "30579       1\n",
       "14674       1\n",
       "19574       1\n",
       "Name: count, Length: 26081, dtype: int64"
      ]
     },
     "execution_count": 37,
     "metadata": {},
     "output_type": "execute_result"
    }
   ],
   "source": [
    "df_train['sqft_lot'].value_counts()"
   ]
  },
  {
   "cell_type": "code",
   "execution_count": 38,
   "id": "24ff002b-8b22-48bb-9780-d5f6b75566c2",
   "metadata": {},
   "outputs": [
    {
     "data": {
      "text/plain": [
       "<Axes: xlabel='sqft_lot'>"
      ]
     },
     "execution_count": 38,
     "metadata": {},
     "output_type": "execute_result"
    },
    {
     "data": {
      "image/png": "[encoded data removed]",
      "text/plain": [
       "<Figure size 640x480 with 1 Axes>"
      ]
     },
     "metadata": {},
     "output_type": "display_data"
    }
   ],
   "source": [
    "sns.boxplot(x=df_train['sqft_lot'])"
   ]
  },
  {
   "cell_type": "code",
   "execution_count": 39,
   "id": "45b6ab20-c55d-4192-9f71-281a78da923d",
   "metadata": {},
   "outputs": [
    {
     "data": {
      "text/plain": [
       "<Axes: xlabel='sqft_lot'>"
      ]
     },
     "execution_count": 39,
     "metadata": {},
     "output_type": "execute_result"
    },
    {
     "data": {
      "image/png": "[encoded data removed]",
      "text/plain": [
       "<Figure size 640x480 with 1 Axes>"
      ]
     },
     "metadata": {},
     "output_type": "display_data"
    }
   ],
   "source": [
    "sns.boxplot(x=df_test['sqft_lot'])"
   ]
  },
  {
   "cell_type": "code",
   "execution_count": 40,
   "id": "dbac779e-d32e-4efa-938f-c2eff33aced0",
   "metadata": {},
   "outputs": [
    {
     "name": "stdout",
     "output_type": "stream",
     "text": [
      "18050.0\n"
     ]
    }
   ],
   "source": [
    "desc = df_train['sqft_lot'].describe()\n",
    "Q1 = desc['25%']\n",
    "Q3 = desc['75%']\n",
    "IQR = Q3 - Q1\n",
    "upper = Q3 + 1.5 * IQR\n",
    "print(upper)"
   ]
  },
  {
   "cell_type": "code",
   "execution_count": 41,
   "id": "eb9cd480-1354-48c8-9deb-ee503eb17bab",
   "metadata": {},
   "outputs": [],
   "source": [
    "df_train['sqft_lot'] = df_train['sqft_lot'].apply(lambda x: df_train['sqft_lot'].median() if x >= 150000 else x)\n",
    "df_test['sqft_lot'] = df_test['sqft_lot'].apply(lambda x: df_test['sqft_lot'].median() if x > 8000000 else x)"
   ]
  },
  {
   "cell_type": "code",
   "execution_count": 42,
   "id": "ca21d174-c1af-42ba-a6e3-8902cd69b012",
   "metadata": {},
   "outputs": [
    {
     "data": {
      "text/plain": [
       "<Axes: xlabel='sqft'>"
      ]
     },
     "execution_count": 42,
     "metadata": {},
     "output_type": "execute_result"
    },
    {
     "data": {
      "image/png": "[encoded data removed]",
      "text/plain": [
       "<Figure size 640x480 with 1 Axes>"
      ]
     },
     "metadata": {},
     "output_type": "display_data"
    }
   ],
   "source": [
    "sns.boxplot(x=df_train['sqft'])"
   ]
  },
  {
   "cell_type": "code",
   "execution_count": 43,
   "id": "48ae6b15-29ba-4b46-af8a-0943801c7a2a",
   "metadata": {},
   "outputs": [
    {
     "data": {
      "text/plain": [
       "<Axes: xlabel='sqft'>"
      ]
     },
     "execution_count": 43,
     "metadata": {},
     "output_type": "execute_result"
    },
    {
     "data": {
      "image/png": "[encoded data removed]",
      "text/plain": [
       "<Figure size 640x480 with 1 Axes>"
      ]
     },
     "metadata": {},
     "output_type": "display_data"
    }
   ],
   "source": [
    "sns.boxplot(x=df_test['sqft'])"
   ]
  },
  {
   "cell_type": "code",
   "execution_count": 44,
   "id": "e1ff0b9e-a48a-446d-954e-d45f6f99442e",
   "metadata": {},
   "outputs": [],
   "source": [
    "df_train['sqft'] = df_train['sqft'].apply(lambda x: df_train['sqft'].median() if x >= 12000 else x)\n",
    "df_test['sqft'] = df_test['sqft'].apply(lambda x: df_test['sqft'].median() if x > 10500 else x)"
   ]
  },
  {
   "cell_type": "code",
   "execution_count": 45,
   "id": "29afe9c9-481d-4460-8404-92e6b7fd0b4e",
   "metadata": {},
   "outputs": [
    {
     "data": {
      "text/plain": [
       "<Axes: xlabel='sqft_1'>"
      ]
     },
     "execution_count": 45,
     "metadata": {},
     "output_type": "execute_result"
    },
    {
     "data": {
      "image/png": "[encoded data removed]",
      "text/plain": [
       "<Figure size 640x480 with 1 Axes>"
      ]
     },
     "metadata": {},
     "output_type": "display_data"
    }
   ],
   "source": [
    "sns.boxplot(x=df_train['sqft_1'])"
   ]
  },
  {
   "cell_type": "code",
   "execution_count": 46,
   "id": "f273bbc3-05c5-4736-8490-78958f67a13c",
   "metadata": {},
   "outputs": [
    {
     "data": {
      "text/plain": [
       "<Axes: xlabel='sqft_1'>"
      ]
     },
     "execution_count": 46,
     "metadata": {},
     "output_type": "execute_result"
    },
    {
     "data": {
      "image/png": "[encoded data removed]",
      "text/plain": [
       "<Figure size 640x480 with 1 Axes>"
      ]
     },
     "metadata": {},
     "output_type": "display_data"
    }
   ],
   "source": [
    "sns.boxplot(x=df_test['sqft_1'])"
   ]
  },
  {
   "cell_type": "code",
   "execution_count": 47,
   "id": "e25835fe-c9b4-4154-99a6-609e56d88efe",
   "metadata": {},
   "outputs": [],
   "source": [
    "df_train['sqft_1'] = df_train['sqft_1'].apply(lambda x: df_train['sqft_1'].median() if x >= 7000 else x)"
   ]
  },
  {
   "cell_type": "code",
   "execution_count": 48,
   "id": "2769ca80-4252-4ade-b103-c0f198e5e13c",
   "metadata": {},
   "outputs": [
    {
     "data": {
      "text/plain": [
       "<Axes: xlabel='sqft_fbsmt'>"
      ]
     },
     "execution_count": 48,
     "metadata": {},
     "output_type": "execute_result"
    },
    {
     "data": {
      "image/png": "[encoded data removed]",
      "text/plain": [
       "<Figure size 640x480 with 1 Axes>"
      ]
     },
     "metadata": {},
     "output_type": "display_data"
    }
   ],
   "source": [
    "sns.boxplot(x=df_train['sqft_fbsmt'])"
   ]
  },
  {
   "cell_type": "code",
   "execution_count": 49,
   "id": "251cf011-9567-4dab-af7b-9dcc95836d1a",
   "metadata": {},
   "outputs": [
    {
     "data": {
      "text/plain": [
       "<Axes: xlabel='sqft_fbsmt'>"
      ]
     },
     "execution_count": 49,
     "metadata": {},
     "output_type": "execute_result"
    },
    {
     "data": {
      "image/png": "[encoded data removed]",
      "text/plain": [
       "<Figure size 640x480 with 1 Axes>"
      ]
     },
     "metadata": {},
     "output_type": "display_data"
    }
   ],
   "source": [
    "sns.boxplot(x=df_test['sqft_fbsmt'])"
   ]
  },
  {
   "cell_type": "code",
   "execution_count": 50,
   "id": "0df53c37-2267-4731-9c5b-2587b15b2985",
   "metadata": {},
   "outputs": [],
   "source": [
    "df_train['sqft_fbsmt'] = df_train['sqft_fbsmt'].apply(lambda x: df_train['sqft_fbsmt'].median() if x >= 4500 else x)\n",
    "df_test['sqft_fbsmt'] = df_test['sqft_fbsmt'].apply(lambda x: df_test['sqft_fbsmt'].median() if x > 3800 else x)"
   ]
  },
  {
   "cell_type": "code",
   "execution_count": 51,
   "id": "354103fc-8644-4031-9c04-8d7d4a97ea69",
   "metadata": {},
   "outputs": [],
   "source": [
    "from sklearn.ensemble import RandomForestRegressor"
   ]
  },
  {
   "cell_type": "code",
   "execution_count": 52,
   "id": "f9b4d2a2-1193-430a-8144-0adb40d847b7",
   "metadata": {},
   "outputs": [],
   "source": [
    "from sklearn.model_selection import GridSearchCV"
   ]
  },
  {
   "cell_type": "code",
   "execution_count": 53,
   "id": "7b133ff4-0a98-4809-a0d1-307873c67caf",
   "metadata": {},
   "outputs": [],
   "source": [
    "model = RandomForestRegressor()"
   ]
  },
  {
   "cell_type": "code",
   "execution_count": 60,
   "id": "46c7d488-6349-4a59-8802-ad72fa8998f5",
   "metadata": {},
   "outputs": [],
   "source": [
    "params = {\n",
    "    'n_estimators':[140],\n",
    "    'max_depth':[34],\n",
    "    'max_features' : [\"sqrt\"]\n",
    "}"
   ]
  },
  {
   "cell_type": "code",
   "execution_count": 61,
   "id": "18d63c2a-13f6-4c3d-b072-bd6adf6435e1",
   "metadata": {},
   "outputs": [],
   "source": [
    "final_model = GridSearchCV(model, param_grid=params, cv=3, verbose=2, return_train_score=True)"
   ]
  },
  {
   "cell_type": "code",
   "execution_count": 62,
   "id": "69624459-1999-4e06-91b5-fb954184770e",
   "metadata": {},
   "outputs": [],
   "source": [
    "X_train = df_train.drop('sale_price', axis = 1)\n",
    "y_train = df_train['sale_price']\n",
    "X_test = df_test.copy()"
   ]
  },
  {
   "cell_type": "code",
   "execution_count": 63,
   "id": "f326c8b4-2165-4932-be70-0a652cb35a9b",
   "metadata": {},
   "outputs": [
    {
     "name": "stdout",
     "output_type": "stream",
     "text": [
      "Fitting 3 folds for each of 1 candidates, totalling 3 fits\n",
      "[CV] END ..max_depth=34, max_features=sqrt, n_estimators=160; total time= 1.1min\n",
      "[CV] END ..max_depth=34, max_features=sqrt, n_estimators=160; total time= 1.1min\n",
      "[CV] END ..max_depth=34, max_features=sqrt, n_estimators=160; total time= 1.2min\n"
     ]
    },
    {
     "data": {
      "text/html": [
       "<style>#sk-container-id-2 {\n",
       "  /* Definition of color scheme common for light and dark mode */\n",
       "  --sklearn-color-text: #000;\n",
       "  --sklearn-color-text-muted: #666;\n",
       "  --sklearn-color-line: gray;\n",
       "  /* Definition of color scheme for unfitted estimators */\n",
       "  --sklearn-color-unfitted-level-0: #fff5e6;\n",
       "  --sklearn-color-unfitted-level-1: #f6e4d2;\n",
       "  --sklearn-color-unfitted-level-2: #ffe0b3;\n",
       "  --sklearn-color-unfitted-level-3: chocolate;\n",
       "  /* Definition of color scheme for fitted estimators */\n",
       "  --sklearn-color-fitted-level-0: #f0f8ff;\n",
       "  --sklearn-color-fitted-level-1: #d4ebff;\n",
       "  --sklearn-color-fitted-level-2: #b3dbfd;\n",
       "  --sklearn-color-fitted-level-3: cornflowerblue;\n",
       "\n",
       "  /* Specific color for light theme */\n",
       "  --sklearn-color-text-on-default-background: var(--sg-text-color, var(--theme-code-foreground, var(--jp-content-font-color1, black)));\n",
       "  --sklearn-color-background: var(--sg-background-color, var(--theme-background, var(--jp-layout-color0, white)));\n",
       "  --sklearn-color-border-box: var(--sg-text-color, var(--theme-code-foreground, var(--jp-content-font-color1, black)));\n",
       "  --sklearn-color-icon: #696969;\n",
       "\n",
       "  @media (prefers-color-scheme: dark) {\n",
       "    /* Redefinition of color scheme for dark theme */\n",
       "    --sklearn-color-text-on-default-background: var(--sg-text-color, var(--theme-code-foreground, var(--jp-content-font-color1, white)));\n",
       "    --sklearn-color-background: var(--sg-background-color, var(--theme-background, var(--jp-layout-color0, #111)));\n",
       "    --sklearn-color-border-box: var(--sg-text-color, var(--theme-code-foreground, var(--jp-content-font-color1, white)));\n",
       "    --sklearn-color-icon: #878787;\n",
       "  }\n",
       "}\n",
       "\n",
       "#sk-container-id-2 {\n",
       "  color: var(--sklearn-color-text);\n",
       "}\n",
       "\n",
       "#sk-container-id-2 pre {\n",
       "  padding: 0;\n",
       "}\n",
       "\n",
       "#sk-container-id-2 input.sk-hidden--visually {\n",
       "  border: 0;\n",
       "  clip: rect(1px 1px 1px 1px);\n",
       "  clip: rect(1px, 1px, 1px, 1px);\n",
       "  height: 1px;\n",
       "  margin: -1px;\n",
       "  overflow: hidden;\n",
       "  padding: 0;\n",
       "  position: absolute;\n",
       "  width: 1px;\n",
       "}\n",
       "\n",
       "#sk-container-id-2 div.sk-dashed-wrapped {\n",
       "  border: 1px dashed var(--sklearn-color-line);\n",
       "  margin: 0 0.4em 0.5em 0.4em;\n",
       "  box-sizing: border-box;\n",
       "  padding-bottom: 0.4em;\n",
       "  background-color: var(--sklearn-color-background);\n",
       "}\n",
       "\n",
       "#sk-container-id-2 div.sk-container {\n",
       "  /* jupyter's `normalize.less` sets `[hidden] { display: none; }`\n",
       "     but bootstrap.min.css set `[hidden] { display: none !important; }`\n",
       "     so we also need the `!important` here to be able to override the\n",
       "     default hidden behavior on the sphinx rendered scikit-learn.org.\n",
       "     See: https://github.com/scikit-learn/scikit-learn/issues/21755 */\n",
       "  display: inline-block !important;\n",
       "  position: relative;\n",
       "}\n",
       "\n",
       "#sk-container-id-2 div.sk-text-repr-fallback {\n",
       "  display: none;\n",
       "}\n",
       "\n",
       "div.sk-parallel-item,\n",
       "div.sk-serial,\n",
       "div.sk-item {\n",
       "  /* draw centered vertical line to link estimators */\n",
       "  background-image: linear-gradient(var(--sklearn-color-text-on-default-background), var(--sklearn-color-text-on-default-background));\n",
       "  background-size: 2px 100%;\n",
       "  background-repeat: no-repeat;\n",
       "  background-position: center center;\n",
       "}\n",
       "\n",
       "/* Parallel-specific style estimator block */\n",
       "\n",
       "#sk-container-id-2 div.sk-parallel-item::after {\n",
       "  content: \"\";\n",
       "  width: 100%;\n",
       "  border-bottom: 2px solid var(--sklearn-color-text-on-default-background);\n",
       "  flex-grow: 1;\n",
       "}\n",
       "\n",
       "#sk-container-id-2 div.sk-parallel {\n",
       "  display: flex;\n",
       "  align-items: stretch;\n",
       "  justify-content: center;\n",
       "  background-color: var(--sklearn-color-background);\n",
       "  position: relative;\n",
       "}\n",
       "\n",
       "#sk-container-id-2 div.sk-parallel-item {\n",
       "  display: flex;\n",
       "  flex-direction: column;\n",
       "}\n",
       "\n",
       "#sk-container-id-2 div.sk-parallel-item:first-child::after {\n",
       "  align-self: flex-end;\n",
       "  width: 50%;\n",
       "}\n",
       "\n",
       "#sk-container-id-2 div.sk-parallel-item:last-child::after {\n",
       "  align-self: flex-start;\n",
       "  width: 50%;\n",
       "}\n",
       "\n",
       "#sk-container-id-2 div.sk-parallel-item:only-child::after {\n",
       "  width: 0;\n",
       "}\n",
       "\n",
       "/* Serial-specific style estimator block */\n",
       "\n",
       "#sk-container-id-2 div.sk-serial {\n",
       "  display: flex;\n",
       "  flex-direction: column;\n",
       "  align-items: center;\n",
       "  background-color: var(--sklearn-color-background);\n",
       "  padding-right: 1em;\n",
       "  padding-left: 1em;\n",
       "}\n",
       "\n",
       "\n",
       "/* Toggleable style: style used for estimator/Pipeline/ColumnTransformer box that is\n",
       "clickable and can be expanded/collapsed.\n",
       "- Pipeline and ColumnTransformer use this feature and define the default style\n",
       "- Estimators will overwrite some part of the style using the `sk-estimator` class\n",
       "*/\n",
       "\n",
       "/* Pipeline and ColumnTransformer style (default) */\n",
       "\n",
       "#sk-container-id-2 div.sk-toggleable {\n",
       "  /* Default theme specific background. It is overwritten whether we have a\n",
       "  specific estimator or a Pipeline/ColumnTransformer */\n",
       "  background-color: var(--sklearn-color-background);\n",
       "}\n",
       "\n",
       "/* Toggleable label */\n",
       "#sk-container-id-2 label.sk-toggleable__label {\n",
       "  cursor: pointer;\n",
       "  display: flex;\n",
       "  width: 100%;\n",
       "  margin-bottom: 0;\n",
       "  padding: 0.5em;\n",
       "  box-sizing: border-box;\n",
       "  text-align: center;\n",
       "  align-items: start;\n",
       "  justify-content: space-between;\n",
       "  gap: 0.5em;\n",
       "}\n",
       "\n",
       "#sk-container-id-2 label.sk-toggleable__label .caption {\n",
       "  font-size: 0.6rem;\n",
       "  font-weight: lighter;\n",
       "  color: var(--sklearn-color-text-muted);\n",
       "}\n",
       "\n",
       "#sk-container-id-2 label.sk-toggleable__label-arrow:before {\n",
       "  /* Arrow on the left of the label */\n",
       "  content: \"▸\";\n",
       "  float: left;\n",
       "  margin-right: 0.25em;\n",
       "  color: var(--sklearn-color-icon);\n",
       "}\n",
       "\n",
       "#sk-container-id-2 label.sk-toggleable__label-arrow:hover:before {\n",
       "  color: var(--sklearn-color-text);\n",
       "}\n",
       "\n",
       "/* Toggleable content - dropdown */\n",
       "\n",
       "#sk-container-id-2 div.sk-toggleable__content {\n",
       "  max-height: 0;\n",
       "  max-width: 0;\n",
       "  overflow: hidden;\n",
       "  text-align: left;\n",
       "  /* unfitted */\n",
       "  background-color: var(--sklearn-color-unfitted-level-0);\n",
       "}\n",
       "\n",
       "#sk-container-id-2 div.sk-toggleable__content.fitted {\n",
       "  /* fitted */\n",
       "  background-color: var(--sklearn-color-fitted-level-0);\n",
       "}\n",
       "\n",
       "#sk-container-id-2 div.sk-toggleable__content pre {\n",
       "  margin: 0.2em;\n",
       "  border-radius: 0.25em;\n",
       "  color: var(--sklearn-color-text);\n",
       "  /* unfitted */\n",
       "  background-color: var(--sklearn-color-unfitted-level-0);\n",
       "}\n",
       "\n",
       "#sk-container-id-2 div.sk-toggleable__content.fitted pre {\n",
       "  /* unfitted */\n",
       "  background-color: var(--sklearn-color-fitted-level-0);\n",
       "}\n",
       "\n",
       "#sk-container-id-2 input.sk-toggleable__control:checked~div.sk-toggleable__content {\n",
       "  /* Expand drop-down */\n",
       "  max-height: 200px;\n",
       "  max-width: 100%;\n",
       "  overflow: auto;\n",
       "}\n",
       "\n",
       "#sk-container-id-2 input.sk-toggleable__control:checked~label.sk-toggleable__label-arrow:before {\n",
       "  content: \"▾\";\n",
       "}\n",
       "\n",
       "/* Pipeline/ColumnTransformer-specific style */\n",
       "\n",
       "#sk-container-id-2 div.sk-label input.sk-toggleable__control:checked~label.sk-toggleable__label {\n",
       "  color: var(--sklearn-color-text);\n",
       "  background-color: var(--sklearn-color-unfitted-level-2);\n",
       "}\n",
       "\n",
       "#sk-container-id-2 div.sk-label.fitted input.sk-toggleable__control:checked~label.sk-toggleable__label {\n",
       "  background-color: var(--sklearn-color-fitted-level-2);\n",
       "}\n",
       "\n",
       "/* Estimator-specific style */\n",
       "\n",
       "/* Colorize estimator box */\n",
       "#sk-container-id-2 div.sk-estimator input.sk-toggleable__control:checked~label.sk-toggleable__label {\n",
       "  /* unfitted */\n",
       "  background-color: var(--sklearn-color-unfitted-level-2);\n",
       "}\n",
       "\n",
       "#sk-container-id-2 div.sk-estimator.fitted input.sk-toggleable__control:checked~label.sk-toggleable__label {\n",
       "  /* fitted */\n",
       "  background-color: var(--sklearn-color-fitted-level-2);\n",
       "}\n",
       "\n",
       "#sk-container-id-2 div.sk-label label.sk-toggleable__label,\n",
       "#sk-container-id-2 div.sk-label label {\n",
       "  /* The background is the default theme color */\n",
       "  color: var(--sklearn-color-text-on-default-background);\n",
       "}\n",
       "\n",
       "/* On hover, darken the color of the background */\n",
       "#sk-container-id-2 div.sk-label:hover label.sk-toggleable__label {\n",
       "  color: var(--sklearn-color-text);\n",
       "  background-color: var(--sklearn-color-unfitted-level-2);\n",
       "}\n",
       "\n",
       "/* Label box, darken color on hover, fitted */\n",
       "#sk-container-id-2 div.sk-label.fitted:hover label.sk-toggleable__label.fitted {\n",
       "  color: var(--sklearn-color-text);\n",
       "  background-color: var(--sklearn-color-fitted-level-2);\n",
       "}\n",
       "\n",
       "/* Estimator label */\n",
       "\n",
       "#sk-container-id-2 div.sk-label label {\n",
       "  font-family: monospace;\n",
       "  font-weight: bold;\n",
       "  display: inline-block;\n",
       "  line-height: 1.2em;\n",
       "}\n",
       "\n",
       "#sk-container-id-2 div.sk-label-container {\n",
       "  text-align: center;\n",
       "}\n",
       "\n",
       "/* Estimator-specific */\n",
       "#sk-container-id-2 div.sk-estimator {\n",
       "  font-family: monospace;\n",
       "  border: 1px dotted var(--sklearn-color-border-box);\n",
       "  border-radius: 0.25em;\n",
       "  box-sizing: border-box;\n",
       "  margin-bottom: 0.5em;\n",
       "  /* unfitted */\n",
       "  background-color: var(--sklearn-color-unfitted-level-0);\n",
       "}\n",
       "\n",
       "#sk-container-id-2 div.sk-estimator.fitted {\n",
       "  /* fitted */\n",
       "  background-color: var(--sklearn-color-fitted-level-0);\n",
       "}\n",
       "\n",
       "/* on hover */\n",
       "#sk-container-id-2 div.sk-estimator:hover {\n",
       "  /* unfitted */\n",
       "  background-color: var(--sklearn-color-unfitted-level-2);\n",
       "}\n",
       "\n",
       "#sk-container-id-2 div.sk-estimator.fitted:hover {\n",
       "  /* fitted */\n",
       "  background-color: var(--sklearn-color-fitted-level-2);\n",
       "}\n",
       "\n",
       "/* Specification for estimator info (e.g. \"i\" and \"?\") */\n",
       "\n",
       "/* Common style for \"i\" and \"?\" */\n",
       "\n",
       ".sk-estimator-doc-link,\n",
       "a:link.sk-estimator-doc-link,\n",
       "a:visited.sk-estimator-doc-link {\n",
       "  float: right;\n",
       "  font-size: smaller;\n",
       "  line-height: 1em;\n",
       "  font-family: monospace;\n",
       "  background-color: var(--sklearn-color-background);\n",
       "  border-radius: 1em;\n",
       "  height: 1em;\n",
       "  width: 1em;\n",
       "  text-decoration: none !important;\n",
       "  margin-left: 0.5em;\n",
       "  text-align: center;\n",
       "  /* unfitted */\n",
       "  border: var(--sklearn-color-unfitted-level-1) 1pt solid;\n",
       "  color: var(--sklearn-color-unfitted-level-1);\n",
       "}\n",
       "\n",
       ".sk-estimator-doc-link.fitted,\n",
       "a:link.sk-estimator-doc-link.fitted,\n",
       "a:visited.sk-estimator-doc-link.fitted {\n",
       "  /* fitted */\n",
       "  border: var(--sklearn-color-fitted-level-1) 1pt solid;\n",
       "  color: var(--sklearn-color-fitted-level-1);\n",
       "}\n",
       "\n",
       "/* On hover */\n",
       "div.sk-estimator:hover .sk-estimator-doc-link:hover,\n",
       ".sk-estimator-doc-link:hover,\n",
       "div.sk-label-container:hover .sk-estimator-doc-link:hover,\n",
       ".sk-estimator-doc-link:hover {\n",
       "  /* unfitted */\n",
       "  background-color: var(--sklearn-color-unfitted-level-3);\n",
       "  color: var(--sklearn-color-background);\n",
       "  text-decoration: none;\n",
       "}\n",
       "\n",
       "div.sk-estimator.fitted:hover .sk-estimator-doc-link.fitted:hover,\n",
       ".sk-estimator-doc-link.fitted:hover,\n",
       "div.sk-label-container:hover .sk-estimator-doc-link.fitted:hover,\n",
       ".sk-estimator-doc-link.fitted:hover {\n",
       "  /* fitted */\n",
       "  background-color: var(--sklearn-color-fitted-level-3);\n",
       "  color: var(--sklearn-color-background);\n",
       "  text-decoration: none;\n",
       "}\n",
       "\n",
       "/* Span, style for the box shown on hovering the info icon */\n",
       ".sk-estimator-doc-link span {\n",
       "  display: none;\n",
       "  z-index: 9999;\n",
       "  position: relative;\n",
       "  font-weight: normal;\n",
       "  right: .2ex;\n",
       "  padding: .5ex;\n",
       "  margin: .5ex;\n",
       "  width: min-content;\n",
       "  min-width: 20ex;\n",
       "  max-width: 50ex;\n",
       "  color: var(--sklearn-color-text);\n",
       "  box-shadow: 2pt 2pt 4pt #999;\n",
       "  /* unfitted */\n",
       "  background: var(--sklearn-color-unfitted-level-0);\n",
       "  border: .5pt solid var(--sklearn-color-unfitted-level-3);\n",
       "}\n",
       "\n",
       ".sk-estimator-doc-link.fitted span {\n",
       "  /* fitted */\n",
       "  background: var(--sklearn-color-fitted-level-0);\n",
       "  border: var(--sklearn-color-fitted-level-3);\n",
       "}\n",
       "\n",
       ".sk-estimator-doc-link:hover span {\n",
       "  display: block;\n",
       "}\n",
       "\n",
       "/* \"?\"-specific style due to the `<a>` HTML tag */\n",
       "\n",
       "#sk-container-id-2 a.estimator_doc_link {\n",
       "  float: right;\n",
       "  font-size: 1rem;\n",
       "  line-height: 1em;\n",
       "  font-family: monospace;\n",
       "  background-color: var(--sklearn-color-background);\n",
       "  border-radius: 1rem;\n",
       "  height: 1rem;\n",
       "  width: 1rem;\n",
       "  text-decoration: none;\n",
       "  /* unfitted */\n",
       "  color: var(--sklearn-color-unfitted-level-1);\n",
       "  border: var(--sklearn-color-unfitted-level-1) 1pt solid;\n",
       "}\n",
       "\n",
       "#sk-container-id-2 a.estimator_doc_link.fitted {\n",
       "  /* fitted */\n",
       "  border: var(--sklearn-color-fitted-level-1) 1pt solid;\n",
       "  color: var(--sklearn-color-fitted-level-1);\n",
       "}\n",
       "\n",
       "/* On hover */\n",
       "#sk-container-id-2 a.estimator_doc_link:hover {\n",
       "  /* unfitted */\n",
       "  background-color: var(--sklearn-color-unfitted-level-3);\n",
       "  color: var(--sklearn-color-background);\n",
       "  text-decoration: none;\n",
       "}\n",
       "\n",
       "#sk-container-id-2 a.estimator_doc_link.fitted:hover {\n",
       "  /* fitted */\n",
       "  background-color: var(--sklearn-color-fitted-level-3);\n",
       "}\n",
       "</style><div id=\"sk-container-id-2\" class=\"sk-top-container\"><div class=\"sk-text-repr-fallback\"><pre>GridSearchCV(cv=3, estimator=RandomForestRegressor(),\n",
       "             param_grid={&#x27;max_depth&#x27;: [34], &#x27;max_features&#x27;: [&#x27;sqrt&#x27;],\n",
       "                         &#x27;n_estimators&#x27;: [160]},\n",
       "             return_train_score=True, verbose=2)</pre><b>In a Jupyter environment, please rerun this cell to show the HTML representation or trust the notebook. <br />On GitHub, the HTML representation is unable to render, please try loading this page with nbviewer.org.</b></div><div class=\"sk-container\" hidden><div class=\"sk-item sk-dashed-wrapped\"><div class=\"sk-label-container\"><div class=\"sk-label fitted sk-toggleable\"><input class=\"sk-toggleable__control sk-hidden--visually\" id=\"sk-estimator-id-4\" type=\"checkbox\" ><label for=\"sk-estimator-id-4\" class=\"sk-toggleable__label fitted sk-toggleable__label-arrow\"><div><div>GridSearchCV</div></div><div><a class=\"sk-estimator-doc-link fitted\" rel=\"noreferrer\" target=\"_blank\" href=\"https://scikit-learn.org/1.6/modules/generated/sklearn.model_selection.GridSearchCV.html\">?<span>Documentation for GridSearchCV</span></a><span class=\"sk-estimator-doc-link fitted\">i<span>Fitted</span></span></div></label><div class=\"sk-toggleable__content fitted\"><pre>GridSearchCV(cv=3, estimator=RandomForestRegressor(),\n",
       "             param_grid={&#x27;max_depth&#x27;: [34], &#x27;max_features&#x27;: [&#x27;sqrt&#x27;],\n",
       "                         &#x27;n_estimators&#x27;: [160]},\n",
       "             return_train_score=True, verbose=2)</pre></div> </div></div><div class=\"sk-parallel\"><div class=\"sk-parallel-item\"><div class=\"sk-item\"><div class=\"sk-label-container\"><div class=\"sk-label fitted sk-toggleable\"><input class=\"sk-toggleable__control sk-hidden--visually\" id=\"sk-estimator-id-5\" type=\"checkbox\" ><label for=\"sk-estimator-id-5\" class=\"sk-toggleable__label fitted sk-toggleable__label-arrow\"><div><div>best_estimator_: RandomForestRegressor</div></div></label><div class=\"sk-toggleable__content fitted\"><pre>RandomForestRegressor(max_depth=34, max_features=&#x27;sqrt&#x27;, n_estimators=160)</pre></div> </div></div><div class=\"sk-serial\"><div class=\"sk-item\"><div class=\"sk-estimator fitted sk-toggleable\"><input class=\"sk-toggleable__control sk-hidden--visually\" id=\"sk-estimator-id-6\" type=\"checkbox\" ><label for=\"sk-estimator-id-6\" class=\"sk-toggleable__label fitted sk-toggleable__label-arrow\"><div><div>RandomForestRegressor</div></div><div><a class=\"sk-estimator-doc-link fitted\" rel=\"noreferrer\" target=\"_blank\" href=\"https://scikit-learn.org/1.6/modules/generated/sklearn.ensemble.RandomForestRegressor.html\">?<span>Documentation for RandomForestRegressor</span></a></div></label><div class=\"sk-toggleable__content fitted\"><pre>RandomForestRegressor(max_depth=34, max_features=&#x27;sqrt&#x27;, n_estimators=160)</pre></div> </div></div></div></div></div></div></div></div></div>"
      ],
      "text/plain": [
       "GridSearchCV(cv=3, estimator=RandomForestRegressor(),\n",
       "             param_grid={'max_depth': [34], 'max_features': ['sqrt'],\n",
       "                         'n_estimators': [160]},\n",
       "             return_train_score=True, verbose=2)"
      ]
     },
     "execution_count": 63,
     "metadata": {},
     "output_type": "execute_result"
    }
   ],
   "source": [
    "final_model.fit(X_train, y_train)"
   ]
  },
  {
   "cell_type": "code",
   "execution_count": 85,
   "id": "54449b2b-41df-4534-83a1-d4f0821b3629",
   "metadata": {},
   "outputs": [],
   "source": [
    "pred_train = final_model.predict(X_train)\n",
    "residual_std = np.std(y_train - pred_train)"
   ]
  },
  {
   "cell_type": "code",
   "execution_count": 86,
   "id": "7a270301-812f-4d37-87e8-e8f65e457d5f",
   "metadata": {},
   "outputs": [],
   "source": [
    "pred_test = final_model.predict(X_test)"
   ]
  },
  {
   "cell_type": "code",
   "execution_count": 87,
   "id": "d3c74c26-82ec-4444-86b6-9c590e75bbda",
   "metadata": {},
   "outputs": [],
   "source": [
    "lower = pred_test - 1.96 * residual_std\n",
    "upper = pred_test + 1.96 * residual_std"
   ]
  },
  {
   "cell_type": "code",
   "execution_count": 88,
   "id": "7feedab9-ee67-44e2-b0ed-1811110f3e7b",
   "metadata": {},
   "outputs": [],
   "source": [
    "sub = pd.read_csv('./sample_submission.csv')"
   ]
  },
  {
   "cell_type": "code",
   "execution_count": 89,
   "id": "7503c0c8-8f4e-4565-9062-8645add46e72",
   "metadata": {},
   "outputs": [],
   "source": [
    "sub['pi_lower'] = lower\n",
    "sub['pi_upper'] = upper"
   ]
  },
  {
   "cell_type": "code",
   "execution_count": 90,
   "id": "e1c55f98-70b9-4315-9bd9-466e908291c6",
   "metadata": {},
   "outputs": [],
   "source": [
    "sub.to_csv('sub.csv', index=False, index_label=False)"
   ]
  },
  {
   "cell_type": "code",
   "execution_count": 64,
   "id": "55cc4fb0-1007-4c7a-a41c-1e63e9908070",
   "metadata": {},
   "outputs": [
    {
     "data": {
      "text/plain": [
       "np.float64(0.8956275984740274)"
      ]
     },
     "execution_count": 64,
     "metadata": {},
     "output_type": "execute_result"
    }
   ],
   "source": [
    "final_model.best_score_"
   ]
  },
  {
   "cell_type": "code",
   "execution_count": 59,
   "id": "adc3e570-d008-40ba-b7df-19e8070a9036",
   "metadata": {},
   "outputs": [
    {
     "data": {
      "text/plain": [
       "{'max_depth': 34, 'max_features': 'sqrt', 'n_estimators': 140}"
      ]
     },
     "execution_count": 59,
     "metadata": {},
     "output_type": "execute_result"
    }
   ],
   "source": [
    "final_model.best_params_"
   ]
  },
  {
   "cell_type": "code",
   "execution_count": null,
   "id": "3beadfc3-21f5-4469-9a74-428e3b8e2f70",
   "metadata": {},
   "outputs": [],
   "source": []
  }
 ],
 "metadata": {
  "kernelspec": {
   "display_name": "Python 3 (ipykernel)",
   "language": "python",
   "name": "python3"
  },
  "language_info": {
   "codemirror_mode": {
    "name": "ipython",
    "version": 3
   },
   "file_extension": ".py",
   "mimetype": "text/x-python",
   "name": "python",
   "nbconvert_exporter": "python",
   "pygments_lexer": "ipython3",
   "version": "3.11.9"
  }
 },
 "nbformat": 4,
 "nbformat_minor": 5
}
